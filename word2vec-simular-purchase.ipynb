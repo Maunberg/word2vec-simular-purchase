{
 "cells": [
  {
   "cell_type": "markdown",
   "id": "ef12796c",
   "metadata": {},
   "source": [
    "# Рекомендация продукта"
   ]
  },
  {
   "cell_type": "markdown",
   "id": "d51756f0",
   "metadata": {},
   "source": [
    "У нас есть датасет от archive.ics.uci.edu\n",
    "\n",
    "В датасете описаны данные товаров, на основе которых мы должны создать систему рекомендаций.\n",
    "\n",
    "Описание датасета:\n",
    "<pre>\n",
    "- InvoiceNo    - уникальный номер транзакции\n",
    "- StockCode    - код продукта\n",
    "- Description  - описание продукта\n",
    "- Quantity     - количество каждого продукта в транзакции\n",
    "- InvoiceDate  - дата и время создания транзакции\n",
    "- CustomerID   - ID клиента\n",
    "- Country      - страна\n",
    "</pre>"
   ]
  },
  {
   "cell_type": "markdown",
   "id": "c4501687",
   "metadata": {},
   "source": [
    "# Анализ данных"
   ]
  },
  {
   "cell_type": "markdown",
   "id": "d27a5059",
   "metadata": {},
   "source": [
    "## Импорт бибоиотек"
   ]
  },
  {
   "cell_type": "code",
   "execution_count": 111,
   "id": "321bc7f4",
   "metadata": {},
   "outputs": [],
   "source": [
    "import pandas as pd\n",
    "import numpy as np\n",
    "import random\n",
    "from tqdm import tqdm\n",
    "from gensim.models import Word2Vec \n",
    "import matplotlib.pyplot as plt\n",
    "%matplotlib inline\n",
    "from sklearn.model_selection import train_test_split\n",
    "\n",
    "import warnings;\n",
    "warnings.filterwarnings('ignore')"
   ]
  },
  {
   "cell_type": "markdown",
   "id": "d6ab9cfc",
   "metadata": {},
   "source": [
    "## Загрузка и просмотр данных"
   ]
  },
  {
   "cell_type": "code",
   "execution_count": 112,
   "id": "31350e82",
   "metadata": {
    "scrolled": true
   },
   "outputs": [
    {
     "data": {
      "text/html": [
       "<div>\n",
       "<style scoped>\n",
       "    .dataframe tbody tr th:only-of-type {\n",
       "        vertical-align: middle;\n",
       "    }\n",
       "\n",
       "    .dataframe tbody tr th {\n",
       "        vertical-align: top;\n",
       "    }\n",
       "\n",
       "    .dataframe thead th {\n",
       "        text-align: right;\n",
       "    }\n",
       "</style>\n",
       "<table border=\"1\" class=\"dataframe\">\n",
       "  <thead>\n",
       "    <tr style=\"text-align: right;\">\n",
       "      <th></th>\n",
       "      <th>InvoiceNo</th>\n",
       "      <th>StockCode</th>\n",
       "      <th>Description</th>\n",
       "      <th>Quantity</th>\n",
       "      <th>InvoiceDate</th>\n",
       "      <th>UnitPrice</th>\n",
       "      <th>CustomerID</th>\n",
       "      <th>Country</th>\n",
       "    </tr>\n",
       "  </thead>\n",
       "  <tbody>\n",
       "    <tr>\n",
       "      <th>0</th>\n",
       "      <td>536365</td>\n",
       "      <td>85123A</td>\n",
       "      <td>WHITE HANGING HEART T-LIGHT HOLDER</td>\n",
       "      <td>6</td>\n",
       "      <td>2010-12-01 08:26:00</td>\n",
       "      <td>2.55</td>\n",
       "      <td>17850.0</td>\n",
       "      <td>United Kingdom</td>\n",
       "    </tr>\n",
       "    <tr>\n",
       "      <th>1</th>\n",
       "      <td>536365</td>\n",
       "      <td>71053</td>\n",
       "      <td>WHITE METAL LANTERN</td>\n",
       "      <td>6</td>\n",
       "      <td>2010-12-01 08:26:00</td>\n",
       "      <td>3.39</td>\n",
       "      <td>17850.0</td>\n",
       "      <td>United Kingdom</td>\n",
       "    </tr>\n",
       "    <tr>\n",
       "      <th>2</th>\n",
       "      <td>536365</td>\n",
       "      <td>84406B</td>\n",
       "      <td>CREAM CUPID HEARTS COAT HANGER</td>\n",
       "      <td>8</td>\n",
       "      <td>2010-12-01 08:26:00</td>\n",
       "      <td>2.75</td>\n",
       "      <td>17850.0</td>\n",
       "      <td>United Kingdom</td>\n",
       "    </tr>\n",
       "    <tr>\n",
       "      <th>3</th>\n",
       "      <td>536365</td>\n",
       "      <td>84029G</td>\n",
       "      <td>KNITTED UNION FLAG HOT WATER BOTTLE</td>\n",
       "      <td>6</td>\n",
       "      <td>2010-12-01 08:26:00</td>\n",
       "      <td>3.39</td>\n",
       "      <td>17850.0</td>\n",
       "      <td>United Kingdom</td>\n",
       "    </tr>\n",
       "    <tr>\n",
       "      <th>4</th>\n",
       "      <td>536365</td>\n",
       "      <td>84029E</td>\n",
       "      <td>RED WOOLLY HOTTIE WHITE HEART.</td>\n",
       "      <td>6</td>\n",
       "      <td>2010-12-01 08:26:00</td>\n",
       "      <td>3.39</td>\n",
       "      <td>17850.0</td>\n",
       "      <td>United Kingdom</td>\n",
       "    </tr>\n",
       "  </tbody>\n",
       "</table>\n",
       "</div>"
      ],
      "text/plain": [
       "  InvoiceNo StockCode                          Description  Quantity  \\\n",
       "0    536365    85123A   WHITE HANGING HEART T-LIGHT HOLDER         6   \n",
       "1    536365     71053                  WHITE METAL LANTERN         6   \n",
       "2    536365    84406B       CREAM CUPID HEARTS COAT HANGER         8   \n",
       "3    536365    84029G  KNITTED UNION FLAG HOT WATER BOTTLE         6   \n",
       "4    536365    84029E       RED WOOLLY HOTTIE WHITE HEART.         6   \n",
       "\n",
       "          InvoiceDate  UnitPrice  CustomerID         Country  \n",
       "0 2010-12-01 08:26:00       2.55     17850.0  United Kingdom  \n",
       "1 2010-12-01 08:26:00       3.39     17850.0  United Kingdom  \n",
       "2 2010-12-01 08:26:00       2.75     17850.0  United Kingdom  \n",
       "3 2010-12-01 08:26:00       3.39     17850.0  United Kingdom  \n",
       "4 2010-12-01 08:26:00       3.39     17850.0  United Kingdom  "
      ]
     },
     "execution_count": 112,
     "metadata": {},
     "output_type": "execute_result"
    }
   ],
   "source": [
    "df = pd.read_excel(r\"C:\\Users\\Dmitri\\Downloads\\Online Retail.xlsx\")\n",
    "df.head()"
   ]
  },
  {
   "cell_type": "code",
   "execution_count": 113,
   "id": "4d2a2f3e",
   "metadata": {},
   "outputs": [
    {
     "data": {
      "text/html": [
       "<div>\n",
       "<style scoped>\n",
       "    .dataframe tbody tr th:only-of-type {\n",
       "        vertical-align: middle;\n",
       "    }\n",
       "\n",
       "    .dataframe tbody tr th {\n",
       "        vertical-align: top;\n",
       "    }\n",
       "\n",
       "    .dataframe thead th {\n",
       "        text-align: right;\n",
       "    }\n",
       "</style>\n",
       "<table border=\"1\" class=\"dataframe\">\n",
       "  <thead>\n",
       "    <tr style=\"text-align: right;\">\n",
       "      <th></th>\n",
       "      <th>InvoiceNo</th>\n",
       "      <th>StockCode</th>\n",
       "      <th>Description</th>\n",
       "      <th>Quantity</th>\n",
       "      <th>InvoiceDate</th>\n",
       "      <th>UnitPrice</th>\n",
       "      <th>CustomerID</th>\n",
       "      <th>Country</th>\n",
       "    </tr>\n",
       "  </thead>\n",
       "  <tbody>\n",
       "    <tr>\n",
       "      <th>0</th>\n",
       "      <td>536365</td>\n",
       "      <td>85123A</td>\n",
       "      <td>WHITE HANGING HEART T-LIGHT HOLDER</td>\n",
       "      <td>6</td>\n",
       "      <td>2010-12-01 08:26:00</td>\n",
       "      <td>2.55</td>\n",
       "      <td>17850.0</td>\n",
       "      <td>United Kingdom</td>\n",
       "    </tr>\n",
       "    <tr>\n",
       "      <th>1</th>\n",
       "      <td>536365</td>\n",
       "      <td>71053</td>\n",
       "      <td>WHITE METAL LANTERN</td>\n",
       "      <td>6</td>\n",
       "      <td>2010-12-01 08:26:00</td>\n",
       "      <td>3.39</td>\n",
       "      <td>17850.0</td>\n",
       "      <td>United Kingdom</td>\n",
       "    </tr>\n",
       "    <tr>\n",
       "      <th>2</th>\n",
       "      <td>536365</td>\n",
       "      <td>84406B</td>\n",
       "      <td>CREAM CUPID HEARTS COAT HANGER</td>\n",
       "      <td>8</td>\n",
       "      <td>2010-12-01 08:26:00</td>\n",
       "      <td>2.75</td>\n",
       "      <td>17850.0</td>\n",
       "      <td>United Kingdom</td>\n",
       "    </tr>\n",
       "    <tr>\n",
       "      <th>3</th>\n",
       "      <td>536365</td>\n",
       "      <td>84029G</td>\n",
       "      <td>KNITTED UNION FLAG HOT WATER BOTTLE</td>\n",
       "      <td>6</td>\n",
       "      <td>2010-12-01 08:26:00</td>\n",
       "      <td>3.39</td>\n",
       "      <td>17850.0</td>\n",
       "      <td>United Kingdom</td>\n",
       "    </tr>\n",
       "    <tr>\n",
       "      <th>4</th>\n",
       "      <td>536365</td>\n",
       "      <td>84029E</td>\n",
       "      <td>RED WOOLLY HOTTIE WHITE HEART.</td>\n",
       "      <td>6</td>\n",
       "      <td>2010-12-01 08:26:00</td>\n",
       "      <td>3.39</td>\n",
       "      <td>17850.0</td>\n",
       "      <td>United Kingdom</td>\n",
       "    </tr>\n",
       "    <tr>\n",
       "      <th>...</th>\n",
       "      <td>...</td>\n",
       "      <td>...</td>\n",
       "      <td>...</td>\n",
       "      <td>...</td>\n",
       "      <td>...</td>\n",
       "      <td>...</td>\n",
       "      <td>...</td>\n",
       "      <td>...</td>\n",
       "    </tr>\n",
       "    <tr>\n",
       "      <th>541904</th>\n",
       "      <td>581587</td>\n",
       "      <td>22613</td>\n",
       "      <td>PACK OF 20 SPACEBOY NAPKINS</td>\n",
       "      <td>12</td>\n",
       "      <td>2011-12-09 12:50:00</td>\n",
       "      <td>0.85</td>\n",
       "      <td>12680.0</td>\n",
       "      <td>France</td>\n",
       "    </tr>\n",
       "    <tr>\n",
       "      <th>541905</th>\n",
       "      <td>581587</td>\n",
       "      <td>22899</td>\n",
       "      <td>CHILDREN'S APRON DOLLY GIRL</td>\n",
       "      <td>6</td>\n",
       "      <td>2011-12-09 12:50:00</td>\n",
       "      <td>2.10</td>\n",
       "      <td>12680.0</td>\n",
       "      <td>France</td>\n",
       "    </tr>\n",
       "    <tr>\n",
       "      <th>541906</th>\n",
       "      <td>581587</td>\n",
       "      <td>23254</td>\n",
       "      <td>CHILDRENS CUTLERY DOLLY GIRL</td>\n",
       "      <td>4</td>\n",
       "      <td>2011-12-09 12:50:00</td>\n",
       "      <td>4.15</td>\n",
       "      <td>12680.0</td>\n",
       "      <td>France</td>\n",
       "    </tr>\n",
       "    <tr>\n",
       "      <th>541907</th>\n",
       "      <td>581587</td>\n",
       "      <td>23255</td>\n",
       "      <td>CHILDRENS CUTLERY CIRCUS PARADE</td>\n",
       "      <td>4</td>\n",
       "      <td>2011-12-09 12:50:00</td>\n",
       "      <td>4.15</td>\n",
       "      <td>12680.0</td>\n",
       "      <td>France</td>\n",
       "    </tr>\n",
       "    <tr>\n",
       "      <th>541908</th>\n",
       "      <td>581587</td>\n",
       "      <td>22138</td>\n",
       "      <td>BAKING SET 9 PIECE RETROSPOT</td>\n",
       "      <td>3</td>\n",
       "      <td>2011-12-09 12:50:00</td>\n",
       "      <td>4.95</td>\n",
       "      <td>12680.0</td>\n",
       "      <td>France</td>\n",
       "    </tr>\n",
       "  </tbody>\n",
       "</table>\n",
       "<p>541909 rows × 8 columns</p>\n",
       "</div>"
      ],
      "text/plain": [
       "       InvoiceNo StockCode                          Description  Quantity  \\\n",
       "0         536365    85123A   WHITE HANGING HEART T-LIGHT HOLDER         6   \n",
       "1         536365     71053                  WHITE METAL LANTERN         6   \n",
       "2         536365    84406B       CREAM CUPID HEARTS COAT HANGER         8   \n",
       "3         536365    84029G  KNITTED UNION FLAG HOT WATER BOTTLE         6   \n",
       "4         536365    84029E       RED WOOLLY HOTTIE WHITE HEART.         6   \n",
       "...          ...       ...                                  ...       ...   \n",
       "541904    581587     22613          PACK OF 20 SPACEBOY NAPKINS        12   \n",
       "541905    581587     22899         CHILDREN'S APRON DOLLY GIRL          6   \n",
       "541906    581587     23254        CHILDRENS CUTLERY DOLLY GIRL          4   \n",
       "541907    581587     23255      CHILDRENS CUTLERY CIRCUS PARADE         4   \n",
       "541908    581587     22138        BAKING SET 9 PIECE RETROSPOT          3   \n",
       "\n",
       "               InvoiceDate  UnitPrice  CustomerID         Country  \n",
       "0      2010-12-01 08:26:00       2.55     17850.0  United Kingdom  \n",
       "1      2010-12-01 08:26:00       3.39     17850.0  United Kingdom  \n",
       "2      2010-12-01 08:26:00       2.75     17850.0  United Kingdom  \n",
       "3      2010-12-01 08:26:00       3.39     17850.0  United Kingdom  \n",
       "4      2010-12-01 08:26:00       3.39     17850.0  United Kingdom  \n",
       "...                    ...        ...         ...             ...  \n",
       "541904 2011-12-09 12:50:00       0.85     12680.0          France  \n",
       "541905 2011-12-09 12:50:00       2.10     12680.0          France  \n",
       "541906 2011-12-09 12:50:00       4.15     12680.0          France  \n",
       "541907 2011-12-09 12:50:00       4.15     12680.0          France  \n",
       "541908 2011-12-09 12:50:00       4.95     12680.0          France  \n",
       "\n",
       "[541909 rows x 8 columns]"
      ]
     },
     "execution_count": 113,
     "metadata": {},
     "output_type": "execute_result"
    }
   ],
   "source": [
    "df"
   ]
  },
  {
   "cell_type": "markdown",
   "id": "2b858990",
   "metadata": {},
   "source": [
    "## Адаптация данных"
   ]
  },
  {
   "cell_type": "code",
   "execution_count": 114,
   "id": "87954e30",
   "metadata": {},
   "outputs": [
    {
     "name": "stdout",
     "output_type": "stream",
     "text": [
      "<class 'pandas.core.frame.DataFrame'>\n",
      "RangeIndex: 541909 entries, 0 to 541908\n",
      "Data columns (total 8 columns):\n",
      " #   Column       Non-Null Count   Dtype         \n",
      "---  ------       --------------   -----         \n",
      " 0   InvoiceNo    541909 non-null  object        \n",
      " 1   StockCode    541909 non-null  object        \n",
      " 2   Description  540455 non-null  object        \n",
      " 3   Quantity     541909 non-null  int64         \n",
      " 4   InvoiceDate  541909 non-null  datetime64[ns]\n",
      " 5   UnitPrice    541909 non-null  float64       \n",
      " 6   CustomerID   406829 non-null  float64       \n",
      " 7   Country      541909 non-null  object        \n",
      "dtypes: datetime64[ns](1), float64(2), int64(1), object(4)\n",
      "memory usage: 33.1+ MB\n"
     ]
    }
   ],
   "source": [
    "df.info()"
   ]
  },
  {
   "cell_type": "code",
   "execution_count": 115,
   "id": "ad8d5f9b",
   "metadata": {},
   "outputs": [
    {
     "data": {
      "text/plain": [
       "InvoiceNo           0\n",
       "StockCode           0\n",
       "Description      1454\n",
       "Quantity            0\n",
       "InvoiceDate         0\n",
       "UnitPrice           0\n",
       "CustomerID     135080\n",
       "Country             0\n",
       "dtype: int64"
      ]
     },
     "execution_count": 115,
     "metadata": {},
     "output_type": "execute_result"
    }
   ],
   "source": [
    "df.isnull().sum()"
   ]
  },
  {
   "cell_type": "code",
   "execution_count": 116,
   "id": "989cfcb6",
   "metadata": {},
   "outputs": [],
   "source": [
    "df.dropna(inplace=True)"
   ]
  },
  {
   "cell_type": "code",
   "execution_count": 117,
   "id": "586f5f16",
   "metadata": {},
   "outputs": [
    {
     "data": {
      "text/plain": [
       "InvoiceNo      0\n",
       "StockCode      0\n",
       "Description    0\n",
       "Quantity       0\n",
       "InvoiceDate    0\n",
       "UnitPrice      0\n",
       "CustomerID     0\n",
       "Country        0\n",
       "dtype: int64"
      ]
     },
     "execution_count": 117,
     "metadata": {},
     "output_type": "execute_result"
    }
   ],
   "source": [
    "df.isnull().sum()"
   ]
  },
  {
   "cell_type": "markdown",
   "id": "2fc50951",
   "metadata": {},
   "source": [
    "<div style=\"border:solid #81d8e6 2px; padding: 10px\">\n",
    "Мы удалили все пропуски, чтобы при работе с ID покупателями не возникало ошибок. Заменить данные мы не можем, поскольку их невозможно получить иным путём.\n",
    "</div>"
   ]
  },
  {
   "cell_type": "code",
   "execution_count": 118,
   "id": "7c2acb9a",
   "metadata": {},
   "outputs": [],
   "source": [
    "data = df.sample(100000)"
   ]
  },
  {
   "cell_type": "markdown",
   "id": "adf7e55d",
   "metadata": {},
   "source": [
    "<div style=\"border:solid #81d8e6 2px; padding: 10px\">\n",
    "Для начала возьмём меньшую выборку, чтобы проверить работоспособность кода.\n",
    "</div>"
   ]
  },
  {
   "cell_type": "code",
   "execution_count": 119,
   "id": "cb1ed174",
   "metadata": {},
   "outputs": [],
   "source": [
    "data['StockCode']= data['StockCode'].astype(str)"
   ]
  },
  {
   "cell_type": "markdown",
   "id": "870fe123",
   "metadata": {},
   "source": [
    "<div style=\"border:solid #81d8e6 2px; padding: 10px\">\n",
    "Изменяем тип данных в столбце с кодом продукта для того, чтобы затем проще с ними работать.\n",
    "</div>"
   ]
  },
  {
   "cell_type": "markdown",
   "id": "4f79b862",
   "metadata": {},
   "source": [
    "## Разделение и подготовка выборок"
   ]
  },
  {
   "cell_type": "code",
   "execution_count": 120,
   "id": "63ae0e75",
   "metadata": {},
   "outputs": [],
   "source": [
    "data_train, data_valid = train_test_split(data, train_size=0.8, test_size=0.2, random_state=12345)"
   ]
  },
  {
   "cell_type": "markdown",
   "id": "77a77753",
   "metadata": {},
   "source": [
    "<div style=\"border:solid #81d8e6 2px; padding: 10px\">\n",
    "Мы разделили выборки, чтобы проверить работоспособность нашей модели с новыми данными. теперь создадим список покупок каждого потребителя.\n",
    "</div>"
   ]
  },
  {
   "cell_type": "code",
   "execution_count": 121,
   "id": "bda2e56d",
   "metadata": {},
   "outputs": [
    {
     "name": "stderr",
     "output_type": "stream",
     "text": [
      "100%|██████████████████████████████████████████████████████████████████████████| 80000/80000 [00:46<00:00, 1730.36it/s]\n"
     ]
    }
   ],
   "source": [
    "purchases_train = []\n",
    "\n",
    "customers_train = data_train['CustomerID'].values\n",
    "for i in tqdm(customers_train):\n",
    "    temp = data_train[data_train[\"CustomerID\"] == i][\"StockCode\"].tolist()\n",
    "    purchases_train.append(temp)"
   ]
  },
  {
   "cell_type": "code",
   "execution_count": 122,
   "id": "fcd20237",
   "metadata": {},
   "outputs": [
    {
     "data": {
      "text/html": [
       "<div>\n",
       "<style scoped>\n",
       "    .dataframe tbody tr th:only-of-type {\n",
       "        vertical-align: middle;\n",
       "    }\n",
       "\n",
       "    .dataframe tbody tr th {\n",
       "        vertical-align: top;\n",
       "    }\n",
       "\n",
       "    .dataframe thead th {\n",
       "        text-align: right;\n",
       "    }\n",
       "</style>\n",
       "<table border=\"1\" class=\"dataframe\">\n",
       "  <thead>\n",
       "    <tr style=\"text-align: right;\">\n",
       "      <th></th>\n",
       "      <th>InvoiceNo</th>\n",
       "      <th>StockCode</th>\n",
       "      <th>Description</th>\n",
       "      <th>Quantity</th>\n",
       "      <th>InvoiceDate</th>\n",
       "      <th>UnitPrice</th>\n",
       "      <th>CustomerID</th>\n",
       "      <th>Country</th>\n",
       "    </tr>\n",
       "  </thead>\n",
       "  <tbody>\n",
       "    <tr>\n",
       "      <th>252251</th>\n",
       "      <td>559098</td>\n",
       "      <td>21166</td>\n",
       "      <td>COOK WITH WINE METAL SIGN</td>\n",
       "      <td>192</td>\n",
       "      <td>2011-07-06 11:02:00</td>\n",
       "      <td>1.85</td>\n",
       "      <td>16029.0</td>\n",
       "      <td>United Kingdom</td>\n",
       "    </tr>\n",
       "    <tr>\n",
       "      <th>182</th>\n",
       "      <td>536387</td>\n",
       "      <td>21731</td>\n",
       "      <td>RED TOADSTOOL LED NIGHT LIGHT</td>\n",
       "      <td>432</td>\n",
       "      <td>2010-12-01 09:58:00</td>\n",
       "      <td>1.25</td>\n",
       "      <td>16029.0</td>\n",
       "      <td>United Kingdom</td>\n",
       "    </tr>\n",
       "    <tr>\n",
       "      <th>304097</th>\n",
       "      <td>563562</td>\n",
       "      <td>85099B</td>\n",
       "      <td>JUMBO BAG RED RETROSPOT</td>\n",
       "      <td>100</td>\n",
       "      <td>2011-08-17 14:02:00</td>\n",
       "      <td>1.74</td>\n",
       "      <td>16029.0</td>\n",
       "      <td>United Kingdom</td>\n",
       "    </tr>\n",
       "    <tr>\n",
       "      <th>384009</th>\n",
       "      <td>570097</td>\n",
       "      <td>22570</td>\n",
       "      <td>FELTCRAFT CUSHION RABBIT</td>\n",
       "      <td>240</td>\n",
       "      <td>2011-10-07 12:05:00</td>\n",
       "      <td>3.39</td>\n",
       "      <td>16029.0</td>\n",
       "      <td>United Kingdom</td>\n",
       "    </tr>\n",
       "    <tr>\n",
       "      <th>121097</th>\n",
       "      <td>546734</td>\n",
       "      <td>22930</td>\n",
       "      <td>BAKING MOULD HEART MILK CHOCOLATE</td>\n",
       "      <td>96</td>\n",
       "      <td>2011-03-16 11:49:00</td>\n",
       "      <td>2.10</td>\n",
       "      <td>16029.0</td>\n",
       "      <td>United Kingdom</td>\n",
       "    </tr>\n",
       "    <tr>\n",
       "      <th>32668</th>\n",
       "      <td>539101</td>\n",
       "      <td>21166</td>\n",
       "      <td>COOK WITH WINE METAL SIGN</td>\n",
       "      <td>144</td>\n",
       "      <td>2010-12-16 10:35:00</td>\n",
       "      <td>1.53</td>\n",
       "      <td>16029.0</td>\n",
       "      <td>United Kingdom</td>\n",
       "    </tr>\n",
       "    <tr>\n",
       "      <th>348500</th>\n",
       "      <td>567455</td>\n",
       "      <td>22666</td>\n",
       "      <td>RECIPE BOX PANTRY YELLOW DESIGN</td>\n",
       "      <td>12</td>\n",
       "      <td>2011-09-20 12:14:00</td>\n",
       "      <td>2.55</td>\n",
       "      <td>16029.0</td>\n",
       "      <td>United Kingdom</td>\n",
       "    </tr>\n",
       "    <tr>\n",
       "      <th>56653</th>\n",
       "      <td>541105</td>\n",
       "      <td>85099F</td>\n",
       "      <td>JUMBO BAG STRAWBERRY</td>\n",
       "      <td>200</td>\n",
       "      <td>2011-01-13 14:34:00</td>\n",
       "      <td>1.65</td>\n",
       "      <td>16029.0</td>\n",
       "      <td>United Kingdom</td>\n",
       "    </tr>\n",
       "    <tr>\n",
       "      <th>390542</th>\n",
       "      <td>C570556</td>\n",
       "      <td>22149</td>\n",
       "      <td>FELTCRAFT 6 FLOWER FRIENDS</td>\n",
       "      <td>-600</td>\n",
       "      <td>2011-10-11 11:10:00</td>\n",
       "      <td>1.85</td>\n",
       "      <td>16029.0</td>\n",
       "      <td>United Kingdom</td>\n",
       "    </tr>\n",
       "    <tr>\n",
       "      <th>390503</th>\n",
       "      <td>C570552</td>\n",
       "      <td>21931</td>\n",
       "      <td>JUMBO STORAGE BAG SUKI</td>\n",
       "      <td>-100</td>\n",
       "      <td>2011-10-11 11:01:00</td>\n",
       "      <td>1.74</td>\n",
       "      <td>16029.0</td>\n",
       "      <td>United Kingdom</td>\n",
       "    </tr>\n",
       "    <tr>\n",
       "      <th>383903</th>\n",
       "      <td>570092</td>\n",
       "      <td>22207</td>\n",
       "      <td>FRYING PAN UNION FLAG</td>\n",
       "      <td>72</td>\n",
       "      <td>2011-10-07 11:51:00</td>\n",
       "      <td>3.75</td>\n",
       "      <td>16029.0</td>\n",
       "      <td>United Kingdom</td>\n",
       "    </tr>\n",
       "    <tr>\n",
       "      <th>241150</th>\n",
       "      <td>558193</td>\n",
       "      <td>22779</td>\n",
       "      <td>WOODEN OWLS LIGHT GARLAND</td>\n",
       "      <td>48</td>\n",
       "      <td>2011-06-27 12:25:00</td>\n",
       "      <td>3.37</td>\n",
       "      <td>16029.0</td>\n",
       "      <td>United Kingdom</td>\n",
       "    </tr>\n",
       "    <tr>\n",
       "      <th>192709</th>\n",
       "      <td>553468</td>\n",
       "      <td>21181</td>\n",
       "      <td>PLEASE ONE PERSON METAL SIGN</td>\n",
       "      <td>192</td>\n",
       "      <td>2011-05-17 11:14:00</td>\n",
       "      <td>1.65</td>\n",
       "      <td>16029.0</td>\n",
       "      <td>United Kingdom</td>\n",
       "    </tr>\n",
       "    <tr>\n",
       "      <th>304093</th>\n",
       "      <td>563562</td>\n",
       "      <td>23206</td>\n",
       "      <td>LUNCH BAG APPLE DESIGN</td>\n",
       "      <td>50</td>\n",
       "      <td>2011-08-17 14:02:00</td>\n",
       "      <td>1.45</td>\n",
       "      <td>16029.0</td>\n",
       "      <td>United Kingdom</td>\n",
       "    </tr>\n",
       "    <tr>\n",
       "      <th>196362</th>\n",
       "      <td>C553841</td>\n",
       "      <td>D</td>\n",
       "      <td>Discount</td>\n",
       "      <td>-48</td>\n",
       "      <td>2011-05-19 12:19:00</td>\n",
       "      <td>0.20</td>\n",
       "      <td>16029.0</td>\n",
       "      <td>United Kingdom</td>\n",
       "    </tr>\n",
       "    <tr>\n",
       "      <th>152451</th>\n",
       "      <td>549594</td>\n",
       "      <td>85152</td>\n",
       "      <td>HAND OVER THE CHOCOLATE   SIGN</td>\n",
       "      <td>48</td>\n",
       "      <td>2011-04-11 10:25:00</td>\n",
       "      <td>1.53</td>\n",
       "      <td>16029.0</td>\n",
       "      <td>United Kingdom</td>\n",
       "    </tr>\n",
       "    <tr>\n",
       "      <th>311890</th>\n",
       "      <td>564327</td>\n",
       "      <td>85099B</td>\n",
       "      <td>JUMBO BAG RED RETROSPOT</td>\n",
       "      <td>100</td>\n",
       "      <td>2011-08-24 13:33:00</td>\n",
       "      <td>1.74</td>\n",
       "      <td>16029.0</td>\n",
       "      <td>United Kingdom</td>\n",
       "    </tr>\n",
       "    <tr>\n",
       "      <th>390491</th>\n",
       "      <td>570522</td>\n",
       "      <td>22207</td>\n",
       "      <td>FRYING PAN UNION FLAG</td>\n",
       "      <td>72</td>\n",
       "      <td>2011-10-11 10:46:00</td>\n",
       "      <td>3.75</td>\n",
       "      <td>16029.0</td>\n",
       "      <td>United Kingdom</td>\n",
       "    </tr>\n",
       "    <tr>\n",
       "      <th>56654</th>\n",
       "      <td>541105</td>\n",
       "      <td>22386</td>\n",
       "      <td>JUMBO BAG PINK POLKADOT</td>\n",
       "      <td>200</td>\n",
       "      <td>2011-01-13 14:34:00</td>\n",
       "      <td>1.65</td>\n",
       "      <td>16029.0</td>\n",
       "      <td>United Kingdom</td>\n",
       "    </tr>\n",
       "    <tr>\n",
       "      <th>255977</th>\n",
       "      <td>559419</td>\n",
       "      <td>85099B</td>\n",
       "      <td>JUMBO BAG RED RETROSPOT</td>\n",
       "      <td>200</td>\n",
       "      <td>2011-07-08 11:41:00</td>\n",
       "      <td>1.74</td>\n",
       "      <td>16029.0</td>\n",
       "      <td>United Kingdom</td>\n",
       "    </tr>\n",
       "    <tr>\n",
       "      <th>82689</th>\n",
       "      <td>543248</td>\n",
       "      <td>85152</td>\n",
       "      <td>HAND OVER THE CHOCOLATE   SIGN</td>\n",
       "      <td>96</td>\n",
       "      <td>2011-02-04 14:25:00</td>\n",
       "      <td>1.53</td>\n",
       "      <td>16029.0</td>\n",
       "      <td>United Kingdom</td>\n",
       "    </tr>\n",
       "    <tr>\n",
       "      <th>32669</th>\n",
       "      <td>539101</td>\n",
       "      <td>85152</td>\n",
       "      <td>HAND OVER THE CHOCOLATE   SIGN</td>\n",
       "      <td>144</td>\n",
       "      <td>2010-12-16 10:35:00</td>\n",
       "      <td>1.53</td>\n",
       "      <td>16029.0</td>\n",
       "      <td>United Kingdom</td>\n",
       "    </tr>\n",
       "    <tr>\n",
       "      <th>169537</th>\n",
       "      <td>551189</td>\n",
       "      <td>22386</td>\n",
       "      <td>JUMBO BAG PINK POLKADOT</td>\n",
       "      <td>100</td>\n",
       "      <td>2011-04-27 10:04:00</td>\n",
       "      <td>1.74</td>\n",
       "      <td>16029.0</td>\n",
       "      <td>United Kingdom</td>\n",
       "    </tr>\n",
       "    <tr>\n",
       "      <th>390541</th>\n",
       "      <td>C570556</td>\n",
       "      <td>22273</td>\n",
       "      <td>FELTCRAFT DOLL MOLLY</td>\n",
       "      <td>-720</td>\n",
       "      <td>2011-10-11 11:10:00</td>\n",
       "      <td>2.30</td>\n",
       "      <td>16029.0</td>\n",
       "      <td>United Kingdom</td>\n",
       "    </tr>\n",
       "    <tr>\n",
       "      <th>304099</th>\n",
       "      <td>563563</td>\n",
       "      <td>22149</td>\n",
       "      <td>FELTCRAFT 6 FLOWER FRIENDS</td>\n",
       "      <td>400</td>\n",
       "      <td>2011-08-17 14:03:00</td>\n",
       "      <td>1.85</td>\n",
       "      <td>16029.0</td>\n",
       "      <td>United Kingdom</td>\n",
       "    </tr>\n",
       "    <tr>\n",
       "      <th>304101</th>\n",
       "      <td>563563</td>\n",
       "      <td>22147</td>\n",
       "      <td>FELTCRAFT BUTTERFLY HEARTS</td>\n",
       "      <td>400</td>\n",
       "      <td>2011-08-17 14:03:00</td>\n",
       "      <td>1.25</td>\n",
       "      <td>16029.0</td>\n",
       "      <td>United Kingdom</td>\n",
       "    </tr>\n",
       "    <tr>\n",
       "      <th>390543</th>\n",
       "      <td>C570556</td>\n",
       "      <td>22147</td>\n",
       "      <td>FELTCRAFT BUTTERFLY HEARTS</td>\n",
       "      <td>-840</td>\n",
       "      <td>2011-10-11 11:10:00</td>\n",
       "      <td>1.25</td>\n",
       "      <td>16029.0</td>\n",
       "      <td>United Kingdom</td>\n",
       "    </tr>\n",
       "    <tr>\n",
       "      <th>242598</th>\n",
       "      <td>558362</td>\n",
       "      <td>22625</td>\n",
       "      <td>RED KITCHEN SCALES</td>\n",
       "      <td>24</td>\n",
       "      <td>2011-06-28 15:14:00</td>\n",
       "      <td>7.65</td>\n",
       "      <td>16029.0</td>\n",
       "      <td>United Kingdom</td>\n",
       "    </tr>\n",
       "    <tr>\n",
       "      <th>121096</th>\n",
       "      <td>546734</td>\n",
       "      <td>22932</td>\n",
       "      <td>BAKING MOULD TOFFEE CUP CHOCOLATE</td>\n",
       "      <td>96</td>\n",
       "      <td>2011-03-16 11:49:00</td>\n",
       "      <td>2.10</td>\n",
       "      <td>16029.0</td>\n",
       "      <td>United Kingdom</td>\n",
       "    </tr>\n",
       "    <tr>\n",
       "      <th>241149</th>\n",
       "      <td>558193</td>\n",
       "      <td>22780</td>\n",
       "      <td>LIGHT GARLAND BUTTERFILES PINK</td>\n",
       "      <td>48</td>\n",
       "      <td>2011-06-27 12:25:00</td>\n",
       "      <td>3.37</td>\n",
       "      <td>16029.0</td>\n",
       "      <td>United Kingdom</td>\n",
       "    </tr>\n",
       "    <tr>\n",
       "      <th>390548</th>\n",
       "      <td>C570556</td>\n",
       "      <td>20971</td>\n",
       "      <td>PINK BLUE FELT CRAFT TRINKET BOX</td>\n",
       "      <td>-1296</td>\n",
       "      <td>2011-10-11 11:10:00</td>\n",
       "      <td>1.06</td>\n",
       "      <td>16029.0</td>\n",
       "      <td>United Kingdom</td>\n",
       "    </tr>\n",
       "    <tr>\n",
       "      <th>383908</th>\n",
       "      <td>570092</td>\n",
       "      <td>85099B</td>\n",
       "      <td>JUMBO BAG RED RETROSPOT</td>\n",
       "      <td>300</td>\n",
       "      <td>2011-10-07 11:51:00</td>\n",
       "      <td>1.74</td>\n",
       "      <td>16029.0</td>\n",
       "      <td>United Kingdom</td>\n",
       "    </tr>\n",
       "    <tr>\n",
       "      <th>96121</th>\n",
       "      <td>544477</td>\n",
       "      <td>21166</td>\n",
       "      <td>COOK WITH WINE METAL SIGN</td>\n",
       "      <td>48</td>\n",
       "      <td>2011-02-21 10:07:00</td>\n",
       "      <td>1.53</td>\n",
       "      <td>16029.0</td>\n",
       "      <td>United Kingdom</td>\n",
       "    </tr>\n",
       "    <tr>\n",
       "      <th>282346</th>\n",
       "      <td>561644</td>\n",
       "      <td>85152</td>\n",
       "      <td>HAND OVER THE CHOCOLATE   SIGN</td>\n",
       "      <td>96</td>\n",
       "      <td>2011-07-28 15:15:00</td>\n",
       "      <td>1.66</td>\n",
       "      <td>16029.0</td>\n",
       "      <td>United Kingdom</td>\n",
       "    </tr>\n",
       "    <tr>\n",
       "      <th>32666</th>\n",
       "      <td>539101</td>\n",
       "      <td>21731</td>\n",
       "      <td>RED TOADSTOOL LED NIGHT LIGHT</td>\n",
       "      <td>408</td>\n",
       "      <td>2010-12-16 10:35:00</td>\n",
       "      <td>1.25</td>\n",
       "      <td>16029.0</td>\n",
       "      <td>United Kingdom</td>\n",
       "    </tr>\n",
       "    <tr>\n",
       "      <th>383904</th>\n",
       "      <td>570092</td>\n",
       "      <td>21931</td>\n",
       "      <td>JUMBO STORAGE BAG SUKI</td>\n",
       "      <td>100</td>\n",
       "      <td>2011-10-07 11:51:00</td>\n",
       "      <td>1.74</td>\n",
       "      <td>16029.0</td>\n",
       "      <td>United Kingdom</td>\n",
       "    </tr>\n",
       "    <tr>\n",
       "      <th>4949</th>\n",
       "      <td>536831</td>\n",
       "      <td>21929</td>\n",
       "      <td>JUMBO BAG PINK VINTAGE PAISLEY</td>\n",
       "      <td>100</td>\n",
       "      <td>2010-12-02 17:40:00</td>\n",
       "      <td>1.65</td>\n",
       "      <td>16029.0</td>\n",
       "      <td>United Kingdom</td>\n",
       "    </tr>\n",
       "    <tr>\n",
       "      <th>304094</th>\n",
       "      <td>563562</td>\n",
       "      <td>22384</td>\n",
       "      <td>LUNCH BAG PINK POLKADOT</td>\n",
       "      <td>50</td>\n",
       "      <td>2011-08-17 14:02:00</td>\n",
       "      <td>1.45</td>\n",
       "      <td>16029.0</td>\n",
       "      <td>United Kingdom</td>\n",
       "    </tr>\n",
       "    <tr>\n",
       "      <th>192711</th>\n",
       "      <td>553469</td>\n",
       "      <td>22207</td>\n",
       "      <td>FRYING PAN UNION FLAG</td>\n",
       "      <td>48</td>\n",
       "      <td>2011-05-17 11:15:00</td>\n",
       "      <td>3.75</td>\n",
       "      <td>16029.0</td>\n",
       "      <td>United Kingdom</td>\n",
       "    </tr>\n",
       "    <tr>\n",
       "      <th>390501</th>\n",
       "      <td>C570552</td>\n",
       "      <td>22386</td>\n",
       "      <td>JUMBO BAG PINK POLKADOT</td>\n",
       "      <td>-200</td>\n",
       "      <td>2011-10-11 11:01:00</td>\n",
       "      <td>1.74</td>\n",
       "      <td>16029.0</td>\n",
       "      <td>United Kingdom</td>\n",
       "    </tr>\n",
       "    <tr>\n",
       "      <th>96120</th>\n",
       "      <td>544477</td>\n",
       "      <td>21731</td>\n",
       "      <td>RED TOADSTOOL LED NIGHT LIGHT</td>\n",
       "      <td>144</td>\n",
       "      <td>2011-02-21 10:07:00</td>\n",
       "      <td>1.25</td>\n",
       "      <td>16029.0</td>\n",
       "      <td>United Kingdom</td>\n",
       "    </tr>\n",
       "    <tr>\n",
       "      <th>326750</th>\n",
       "      <td>565591</td>\n",
       "      <td>21181</td>\n",
       "      <td>PLEASE ONE PERSON METAL SIGN</td>\n",
       "      <td>96</td>\n",
       "      <td>2011-09-05 13:54:00</td>\n",
       "      <td>1.85</td>\n",
       "      <td>16029.0</td>\n",
       "      <td>United Kingdom</td>\n",
       "    </tr>\n",
       "    <tr>\n",
       "      <th>390544</th>\n",
       "      <td>C570556</td>\n",
       "      <td>20971</td>\n",
       "      <td>PINK BLUE FELT CRAFT TRINKET BOX</td>\n",
       "      <td>-1296</td>\n",
       "      <td>2011-10-11 11:10:00</td>\n",
       "      <td>1.06</td>\n",
       "      <td>16029.0</td>\n",
       "      <td>United Kingdom</td>\n",
       "    </tr>\n",
       "    <tr>\n",
       "      <th>242602</th>\n",
       "      <td>558362</td>\n",
       "      <td>20713</td>\n",
       "      <td>JUMBO BAG OWLS</td>\n",
       "      <td>200</td>\n",
       "      <td>2011-06-28 15:14:00</td>\n",
       "      <td>1.74</td>\n",
       "      <td>16029.0</td>\n",
       "      <td>United Kingdom</td>\n",
       "    </tr>\n",
       "    <tr>\n",
       "      <th>32665</th>\n",
       "      <td>539101</td>\n",
       "      <td>22466</td>\n",
       "      <td>FAIRY TALE COTTAGE NIGHTLIGHT</td>\n",
       "      <td>408</td>\n",
       "      <td>2010-12-16 10:35:00</td>\n",
       "      <td>1.45</td>\n",
       "      <td>16029.0</td>\n",
       "      <td>United Kingdom</td>\n",
       "    </tr>\n",
       "    <tr>\n",
       "      <th>282349</th>\n",
       "      <td>561644</td>\n",
       "      <td>22174</td>\n",
       "      <td>PHOTO CUBE</td>\n",
       "      <td>72</td>\n",
       "      <td>2011-07-28 15:15:00</td>\n",
       "      <td>1.25</td>\n",
       "      <td>16029.0</td>\n",
       "      <td>United Kingdom</td>\n",
       "    </tr>\n",
       "    <tr>\n",
       "      <th>192714</th>\n",
       "      <td>553469</td>\n",
       "      <td>85099B</td>\n",
       "      <td>JUMBO BAG RED RETROSPOT</td>\n",
       "      <td>100</td>\n",
       "      <td>2011-05-17 11:15:00</td>\n",
       "      <td>1.74</td>\n",
       "      <td>16029.0</td>\n",
       "      <td>United Kingdom</td>\n",
       "    </tr>\n",
       "    <tr>\n",
       "      <th>304102</th>\n",
       "      <td>563563</td>\n",
       "      <td>22568</td>\n",
       "      <td>FELTCRAFT CUSHION OWL</td>\n",
       "      <td>240</td>\n",
       "      <td>2011-08-17 14:03:00</td>\n",
       "      <td>3.39</td>\n",
       "      <td>16029.0</td>\n",
       "      <td>United Kingdom</td>\n",
       "    </tr>\n",
       "    <tr>\n",
       "      <th>69926</th>\n",
       "      <td>541992</td>\n",
       "      <td>21232</td>\n",
       "      <td>STRAWBERRY CERAMIC TRINKET BOX</td>\n",
       "      <td>96</td>\n",
       "      <td>2011-01-25 09:31:00</td>\n",
       "      <td>1.06</td>\n",
       "      <td>16029.0</td>\n",
       "      <td>United Kingdom</td>\n",
       "    </tr>\n",
       "    <tr>\n",
       "      <th>185245</th>\n",
       "      <td>552786</td>\n",
       "      <td>21181</td>\n",
       "      <td>PLEASE ONE PERSON METAL SIGN</td>\n",
       "      <td>48</td>\n",
       "      <td>2011-05-11 12:14:00</td>\n",
       "      <td>1.85</td>\n",
       "      <td>16029.0</td>\n",
       "      <td>United Kingdom</td>\n",
       "    </tr>\n",
       "    <tr>\n",
       "      <th>420152</th>\n",
       "      <td>572878</td>\n",
       "      <td>21166</td>\n",
       "      <td>COOK WITH WINE METAL SIGN</td>\n",
       "      <td>92</td>\n",
       "      <td>2011-10-26 13:34:00</td>\n",
       "      <td>1.66</td>\n",
       "      <td>16029.0</td>\n",
       "      <td>United Kingdom</td>\n",
       "    </tr>\n",
       "    <tr>\n",
       "      <th>82688</th>\n",
       "      <td>543248</td>\n",
       "      <td>85150</td>\n",
       "      <td>LADIES &amp; GENTLEMEN METAL SIGN</td>\n",
       "      <td>192</td>\n",
       "      <td>2011-02-04 14:25:00</td>\n",
       "      <td>1.69</td>\n",
       "      <td>16029.0</td>\n",
       "      <td>United Kingdom</td>\n",
       "    </tr>\n",
       "    <tr>\n",
       "      <th>291551</th>\n",
       "      <td>562459</td>\n",
       "      <td>20713</td>\n",
       "      <td>JUMBO BAG OWLS</td>\n",
       "      <td>100</td>\n",
       "      <td>2011-08-05 11:17:00</td>\n",
       "      <td>1.74</td>\n",
       "      <td>16029.0</td>\n",
       "      <td>United Kingdom</td>\n",
       "    </tr>\n",
       "    <tr>\n",
       "      <th>311885</th>\n",
       "      <td>564327</td>\n",
       "      <td>21931</td>\n",
       "      <td>JUMBO STORAGE BAG SUKI</td>\n",
       "      <td>100</td>\n",
       "      <td>2011-08-24 13:33:00</td>\n",
       "      <td>1.74</td>\n",
       "      <td>16029.0</td>\n",
       "      <td>United Kingdom</td>\n",
       "    </tr>\n",
       "    <tr>\n",
       "      <th>304100</th>\n",
       "      <td>563563</td>\n",
       "      <td>20971</td>\n",
       "      <td>PINK BLUE FELT CRAFT TRINKET BOX</td>\n",
       "      <td>576</td>\n",
       "      <td>2011-08-17 14:03:00</td>\n",
       "      <td>1.06</td>\n",
       "      <td>16029.0</td>\n",
       "      <td>United Kingdom</td>\n",
       "    </tr>\n",
       "    <tr>\n",
       "      <th>311886</th>\n",
       "      <td>564327</td>\n",
       "      <td>85099B</td>\n",
       "      <td>JUMBO BAG RED RETROSPOT</td>\n",
       "      <td>100</td>\n",
       "      <td>2011-08-24 13:33:00</td>\n",
       "      <td>1.74</td>\n",
       "      <td>16029.0</td>\n",
       "      <td>United Kingdom</td>\n",
       "    </tr>\n",
       "    <tr>\n",
       "      <th>348505</th>\n",
       "      <td>567456</td>\n",
       "      <td>22384</td>\n",
       "      <td>LUNCH BAG PINK POLKADOT</td>\n",
       "      <td>50</td>\n",
       "      <td>2011-09-20 12:16:00</td>\n",
       "      <td>1.45</td>\n",
       "      <td>16029.0</td>\n",
       "      <td>United Kingdom</td>\n",
       "    </tr>\n",
       "    <tr>\n",
       "      <th>32672</th>\n",
       "      <td>539102</td>\n",
       "      <td>22174</td>\n",
       "      <td>PHOTO CUBE</td>\n",
       "      <td>408</td>\n",
       "      <td>2010-12-16 10:37:00</td>\n",
       "      <td>1.25</td>\n",
       "      <td>16029.0</td>\n",
       "      <td>United Kingdom</td>\n",
       "    </tr>\n",
       "  </tbody>\n",
       "</table>\n",
       "</div>"
      ],
      "text/plain": [
       "       InvoiceNo StockCode                        Description  Quantity  \\\n",
       "252251    559098     21166         COOK WITH WINE METAL SIGN        192   \n",
       "182       536387     21731      RED TOADSTOOL LED NIGHT LIGHT       432   \n",
       "304097    563562    85099B            JUMBO BAG RED RETROSPOT       100   \n",
       "384009    570097     22570           FELTCRAFT CUSHION RABBIT       240   \n",
       "121097    546734     22930  BAKING MOULD HEART MILK CHOCOLATE        96   \n",
       "32668     539101     21166         COOK WITH WINE METAL SIGN        144   \n",
       "348500    567455     22666    RECIPE BOX PANTRY YELLOW DESIGN        12   \n",
       "56653     541105    85099F               JUMBO BAG STRAWBERRY       200   \n",
       "390542   C570556     22149         FELTCRAFT 6 FLOWER FRIENDS      -600   \n",
       "390503   C570552     21931             JUMBO STORAGE BAG SUKI      -100   \n",
       "383903    570092     22207              FRYING PAN UNION FLAG        72   \n",
       "241150    558193     22779         WOODEN OWLS LIGHT GARLAND         48   \n",
       "192709    553468     21181       PLEASE ONE PERSON METAL SIGN       192   \n",
       "304093    563562     23206             LUNCH BAG APPLE DESIGN        50   \n",
       "196362   C553841         D                           Discount       -48   \n",
       "152451    549594     85152    HAND OVER THE CHOCOLATE   SIGN         48   \n",
       "311890    564327    85099B            JUMBO BAG RED RETROSPOT       100   \n",
       "390491    570522     22207              FRYING PAN UNION FLAG        72   \n",
       "56654     541105     22386            JUMBO BAG PINK POLKADOT       200   \n",
       "255977    559419    85099B            JUMBO BAG RED RETROSPOT       200   \n",
       "82689     543248     85152    HAND OVER THE CHOCOLATE   SIGN         96   \n",
       "32669     539101     85152    HAND OVER THE CHOCOLATE   SIGN        144   \n",
       "169537    551189     22386            JUMBO BAG PINK POLKADOT       100   \n",
       "390541   C570556     22273               FELTCRAFT DOLL MOLLY      -720   \n",
       "304099    563563     22149         FELTCRAFT 6 FLOWER FRIENDS       400   \n",
       "304101    563563     22147         FELTCRAFT BUTTERFLY HEARTS       400   \n",
       "390543   C570556     22147         FELTCRAFT BUTTERFLY HEARTS      -840   \n",
       "242598    558362     22625                 RED KITCHEN SCALES        24   \n",
       "121096    546734     22932  BAKING MOULD TOFFEE CUP CHOCOLATE        96   \n",
       "241149    558193     22780     LIGHT GARLAND BUTTERFILES PINK        48   \n",
       "390548   C570556     20971   PINK BLUE FELT CRAFT TRINKET BOX     -1296   \n",
       "383908    570092    85099B            JUMBO BAG RED RETROSPOT       300   \n",
       "96121     544477     21166         COOK WITH WINE METAL SIGN         48   \n",
       "282346    561644     85152    HAND OVER THE CHOCOLATE   SIGN         96   \n",
       "32666     539101     21731      RED TOADSTOOL LED NIGHT LIGHT       408   \n",
       "383904    570092     21931             JUMBO STORAGE BAG SUKI       100   \n",
       "4949      536831     21929     JUMBO BAG PINK VINTAGE PAISLEY       100   \n",
       "304094    563562     22384            LUNCH BAG PINK POLKADOT        50   \n",
       "192711    553469     22207              FRYING PAN UNION FLAG        48   \n",
       "390501   C570552     22386            JUMBO BAG PINK POLKADOT      -200   \n",
       "96120     544477     21731      RED TOADSTOOL LED NIGHT LIGHT       144   \n",
       "326750    565591     21181       PLEASE ONE PERSON METAL SIGN        96   \n",
       "390544   C570556     20971   PINK BLUE FELT CRAFT TRINKET BOX     -1296   \n",
       "242602    558362     20713                     JUMBO BAG OWLS       200   \n",
       "32665     539101     22466      FAIRY TALE COTTAGE NIGHTLIGHT       408   \n",
       "282349    561644     22174                         PHOTO CUBE        72   \n",
       "192714    553469    85099B            JUMBO BAG RED RETROSPOT       100   \n",
       "304102    563563     22568              FELTCRAFT CUSHION OWL       240   \n",
       "69926     541992     21232     STRAWBERRY CERAMIC TRINKET BOX        96   \n",
       "185245    552786     21181       PLEASE ONE PERSON METAL SIGN        48   \n",
       "420152    572878     21166         COOK WITH WINE METAL SIGN         92   \n",
       "82688     543248     85150      LADIES & GENTLEMEN METAL SIGN       192   \n",
       "291551    562459     20713                     JUMBO BAG OWLS       100   \n",
       "311885    564327     21931             JUMBO STORAGE BAG SUKI       100   \n",
       "304100    563563     20971   PINK BLUE FELT CRAFT TRINKET BOX       576   \n",
       "311886    564327    85099B            JUMBO BAG RED RETROSPOT       100   \n",
       "348505    567456     22384            LUNCH BAG PINK POLKADOT        50   \n",
       "32672     539102     22174                         PHOTO CUBE       408   \n",
       "\n",
       "               InvoiceDate  UnitPrice  CustomerID         Country  \n",
       "252251 2011-07-06 11:02:00       1.85     16029.0  United Kingdom  \n",
       "182    2010-12-01 09:58:00       1.25     16029.0  United Kingdom  \n",
       "304097 2011-08-17 14:02:00       1.74     16029.0  United Kingdom  \n",
       "384009 2011-10-07 12:05:00       3.39     16029.0  United Kingdom  \n",
       "121097 2011-03-16 11:49:00       2.10     16029.0  United Kingdom  \n",
       "32668  2010-12-16 10:35:00       1.53     16029.0  United Kingdom  \n",
       "348500 2011-09-20 12:14:00       2.55     16029.0  United Kingdom  \n",
       "56653  2011-01-13 14:34:00       1.65     16029.0  United Kingdom  \n",
       "390542 2011-10-11 11:10:00       1.85     16029.0  United Kingdom  \n",
       "390503 2011-10-11 11:01:00       1.74     16029.0  United Kingdom  \n",
       "383903 2011-10-07 11:51:00       3.75     16029.0  United Kingdom  \n",
       "241150 2011-06-27 12:25:00       3.37     16029.0  United Kingdom  \n",
       "192709 2011-05-17 11:14:00       1.65     16029.0  United Kingdom  \n",
       "304093 2011-08-17 14:02:00       1.45     16029.0  United Kingdom  \n",
       "196362 2011-05-19 12:19:00       0.20     16029.0  United Kingdom  \n",
       "152451 2011-04-11 10:25:00       1.53     16029.0  United Kingdom  \n",
       "311890 2011-08-24 13:33:00       1.74     16029.0  United Kingdom  \n",
       "390491 2011-10-11 10:46:00       3.75     16029.0  United Kingdom  \n",
       "56654  2011-01-13 14:34:00       1.65     16029.0  United Kingdom  \n",
       "255977 2011-07-08 11:41:00       1.74     16029.0  United Kingdom  \n",
       "82689  2011-02-04 14:25:00       1.53     16029.0  United Kingdom  \n",
       "32669  2010-12-16 10:35:00       1.53     16029.0  United Kingdom  \n",
       "169537 2011-04-27 10:04:00       1.74     16029.0  United Kingdom  \n",
       "390541 2011-10-11 11:10:00       2.30     16029.0  United Kingdom  \n",
       "304099 2011-08-17 14:03:00       1.85     16029.0  United Kingdom  \n",
       "304101 2011-08-17 14:03:00       1.25     16029.0  United Kingdom  \n",
       "390543 2011-10-11 11:10:00       1.25     16029.0  United Kingdom  \n",
       "242598 2011-06-28 15:14:00       7.65     16029.0  United Kingdom  \n",
       "121096 2011-03-16 11:49:00       2.10     16029.0  United Kingdom  \n",
       "241149 2011-06-27 12:25:00       3.37     16029.0  United Kingdom  \n",
       "390548 2011-10-11 11:10:00       1.06     16029.0  United Kingdom  \n",
       "383908 2011-10-07 11:51:00       1.74     16029.0  United Kingdom  \n",
       "96121  2011-02-21 10:07:00       1.53     16029.0  United Kingdom  \n",
       "282346 2011-07-28 15:15:00       1.66     16029.0  United Kingdom  \n",
       "32666  2010-12-16 10:35:00       1.25     16029.0  United Kingdom  \n",
       "383904 2011-10-07 11:51:00       1.74     16029.0  United Kingdom  \n",
       "4949   2010-12-02 17:40:00       1.65     16029.0  United Kingdom  \n",
       "304094 2011-08-17 14:02:00       1.45     16029.0  United Kingdom  \n",
       "192711 2011-05-17 11:15:00       3.75     16029.0  United Kingdom  \n",
       "390501 2011-10-11 11:01:00       1.74     16029.0  United Kingdom  \n",
       "96120  2011-02-21 10:07:00       1.25     16029.0  United Kingdom  \n",
       "326750 2011-09-05 13:54:00       1.85     16029.0  United Kingdom  \n",
       "390544 2011-10-11 11:10:00       1.06     16029.0  United Kingdom  \n",
       "242602 2011-06-28 15:14:00       1.74     16029.0  United Kingdom  \n",
       "32665  2010-12-16 10:35:00       1.45     16029.0  United Kingdom  \n",
       "282349 2011-07-28 15:15:00       1.25     16029.0  United Kingdom  \n",
       "192714 2011-05-17 11:15:00       1.74     16029.0  United Kingdom  \n",
       "304102 2011-08-17 14:03:00       3.39     16029.0  United Kingdom  \n",
       "69926  2011-01-25 09:31:00       1.06     16029.0  United Kingdom  \n",
       "185245 2011-05-11 12:14:00       1.85     16029.0  United Kingdom  \n",
       "420152 2011-10-26 13:34:00       1.66     16029.0  United Kingdom  \n",
       "82688  2011-02-04 14:25:00       1.69     16029.0  United Kingdom  \n",
       "291551 2011-08-05 11:17:00       1.74     16029.0  United Kingdom  \n",
       "311885 2011-08-24 13:33:00       1.74     16029.0  United Kingdom  \n",
       "304100 2011-08-17 14:03:00       1.06     16029.0  United Kingdom  \n",
       "311886 2011-08-24 13:33:00       1.74     16029.0  United Kingdom  \n",
       "348505 2011-09-20 12:16:00       1.45     16029.0  United Kingdom  \n",
       "32672  2010-12-16 10:37:00       1.25     16029.0  United Kingdom  "
      ]
     },
     "execution_count": 122,
     "metadata": {},
     "output_type": "execute_result"
    }
   ],
   "source": [
    "data_train.query('CustomerID==16029.0')"
   ]
  },
  {
   "cell_type": "code",
   "execution_count": 123,
   "id": "7a9e5dbb",
   "metadata": {},
   "outputs": [
    {
     "data": {
      "text/plain": [
       "12"
      ]
     },
     "execution_count": 123,
     "metadata": {},
     "output_type": "execute_result"
    }
   ],
   "source": [
    "len(purchases_train[0])"
   ]
  },
  {
   "cell_type": "markdown",
   "id": "97c8fb3d",
   "metadata": {},
   "source": [
    "<div style=\"border:solid #81d8e6 2px; padding: 10px\">\n",
    "Теперь проверяем правильность данных. Мы нашли покупки 1 покупателя в данных и 1 покупателя в списке покупок. Их количество совпадает. Аналогично делаем и с валидационной выборкой.\n",
    "</div>"
   ]
  },
  {
   "cell_type": "code",
   "execution_count": 124,
   "id": "56f344ee",
   "metadata": {},
   "outputs": [
    {
     "name": "stderr",
     "output_type": "stream",
     "text": [
      "100%|██████████████████████████████████████████████████████████████████████████| 20000/20000 [00:09<00:00, 2102.46it/s]\n"
     ]
    }
   ],
   "source": [
    "purchases_val = []\n",
    "\n",
    "customers_val = data_valid['CustomerID'].values\n",
    "for i in tqdm(customers_val):\n",
    "    temp = data_valid[data_valid[\"CustomerID\"] == i][\"StockCode\"].tolist()\n",
    "    purchases_val.append(temp)"
   ]
  },
  {
   "cell_type": "code",
   "execution_count": 125,
   "id": "7f924fb0",
   "metadata": {},
   "outputs": [
    {
     "data": {
      "text/html": [
       "<div>\n",
       "<style scoped>\n",
       "    .dataframe tbody tr th:only-of-type {\n",
       "        vertical-align: middle;\n",
       "    }\n",
       "\n",
       "    .dataframe tbody tr th {\n",
       "        vertical-align: top;\n",
       "    }\n",
       "\n",
       "    .dataframe thead th {\n",
       "        text-align: right;\n",
       "    }\n",
       "</style>\n",
       "<table border=\"1\" class=\"dataframe\">\n",
       "  <thead>\n",
       "    <tr style=\"text-align: right;\">\n",
       "      <th></th>\n",
       "      <th>InvoiceNo</th>\n",
       "      <th>StockCode</th>\n",
       "      <th>Description</th>\n",
       "      <th>Quantity</th>\n",
       "      <th>InvoiceDate</th>\n",
       "      <th>UnitPrice</th>\n",
       "      <th>CustomerID</th>\n",
       "      <th>Country</th>\n",
       "    </tr>\n",
       "  </thead>\n",
       "  <tbody>\n",
       "    <tr>\n",
       "      <th>381357</th>\n",
       "      <td>569861</td>\n",
       "      <td>23292</td>\n",
       "      <td>SPACEBOY CHILDRENS CUP</td>\n",
       "      <td>8</td>\n",
       "      <td>2011-10-06 14:37:00</td>\n",
       "      <td>1.25</td>\n",
       "      <td>13816.0</td>\n",
       "      <td>Germany</td>\n",
       "    </tr>\n",
       "    <tr>\n",
       "      <th>381350</th>\n",
       "      <td>569861</td>\n",
       "      <td>84078A</td>\n",
       "      <td>SET/4 WHITE RETRO STORAGE CUBES</td>\n",
       "      <td>1</td>\n",
       "      <td>2011-10-06 14:37:00</td>\n",
       "      <td>39.95</td>\n",
       "      <td>13816.0</td>\n",
       "      <td>Germany</td>\n",
       "    </tr>\n",
       "  </tbody>\n",
       "</table>\n",
       "</div>"
      ],
      "text/plain": [
       "       InvoiceNo StockCode                       Description  Quantity  \\\n",
       "381357    569861     23292            SPACEBOY CHILDRENS CUP         8   \n",
       "381350    569861    84078A  SET/4 WHITE RETRO STORAGE CUBES          1   \n",
       "\n",
       "               InvoiceDate  UnitPrice  CustomerID  Country  \n",
       "381357 2011-10-06 14:37:00       1.25     13816.0  Germany  \n",
       "381350 2011-10-06 14:37:00      39.95     13816.0  Germany  "
      ]
     },
     "execution_count": 125,
     "metadata": {},
     "output_type": "execute_result"
    }
   ],
   "source": [
    "data_valid.query('CustomerID==13816.0')"
   ]
  },
  {
   "cell_type": "code",
   "execution_count": 126,
   "id": "29a1a9bb",
   "metadata": {},
   "outputs": [
    {
     "data": {
      "text/plain": [
       "10"
      ]
     },
     "execution_count": 126,
     "metadata": {},
     "output_type": "execute_result"
    }
   ],
   "source": [
    "len(purchases_val[0])"
   ]
  },
  {
   "cell_type": "markdown",
   "id": "6db8caf5",
   "metadata": {},
   "source": [
    "# Обучение и работа с моделью"
   ]
  },
  {
   "cell_type": "markdown",
   "id": "0f1182ad",
   "metadata": {},
   "source": [
    "<div style=\"border:solid #81d8e6 2px; padding: 10px\">\n",
    "Обучаем модель.\n",
    "</div>"
   ]
  },
  {
   "cell_type": "code",
   "execution_count": 127,
   "id": "0010de4d",
   "metadata": {},
   "outputs": [],
   "source": [
    "model = Word2Vec(window = 15, sg = 1, hs = 0,\n",
    "                 negative = 10,\n",
    "                 alpha=0.04, min_alpha=0.0006,\n",
    "                 seed = 14)"
   ]
  },
  {
   "cell_type": "markdown",
   "id": "b750dfe1",
   "metadata": {},
   "source": [
    "<div style=\"border:solid #81d8e6 2px; padding: 10px\">\n",
    "Создаём словарь и тренеруем модель.\n",
    "</div>"
   ]
  },
  {
   "cell_type": "code",
   "execution_count": 128,
   "id": "1486b99b",
   "metadata": {},
   "outputs": [
    {
     "data": {
      "text/plain": [
       "(104607780, 105048160)"
      ]
     },
     "execution_count": 128,
     "metadata": {},
     "output_type": "execute_result"
    }
   ],
   "source": [
    "model.build_vocab(purchases_train, progress_per=200)\n",
    "\n",
    "model.train(purchases_train, total_examples = model.corpus_count, \n",
    "            epochs=10, report_delay=1)"
   ]
  },
  {
   "cell_type": "markdown",
   "id": "ec1c2bb7",
   "metadata": {},
   "source": [
    "<div style=\"border:solid #81d8e6 2px; padding: 10px\">\n",
    "Закрепляем модель, так как больше обучать мы её не будем.\n",
    "</div>"
   ]
  },
  {
   "cell_type": "code",
   "execution_count": 129,
   "id": "8edde9e3",
   "metadata": {},
   "outputs": [],
   "source": [
    "model.init_sims(replace=True)"
   ]
  },
  {
   "cell_type": "code",
   "execution_count": 130,
   "id": "52614a10",
   "metadata": {},
   "outputs": [
    {
     "name": "stdout",
     "output_type": "stream",
     "text": [
      "Word2Vec(vocab=3272, vector_size=100, alpha=0.04)\n"
     ]
    }
   ],
   "source": [
    "print(model)"
   ]
  },
  {
   "cell_type": "markdown",
   "id": "9a073eae",
   "metadata": {},
   "source": [
    "<div style=\"border:solid #81d8e6 2px; padding: 10px\">\n",
    "Создаём словарь векторов.\n",
    "</div>"
   ]
  },
  {
   "cell_type": "code",
   "execution_count": 131,
   "id": "a65fdb29",
   "metadata": {},
   "outputs": [
    {
     "data": {
      "text/plain": [
       "(3272, 100)"
      ]
     },
     "execution_count": 131,
     "metadata": {},
     "output_type": "execute_result"
    }
   ],
   "source": [
    "X = model.wv[model.wv.index_to_key]\n",
    "\n",
    "X.shape"
   ]
  },
  {
   "cell_type": "markdown",
   "id": "2b531c05",
   "metadata": {},
   "source": [
    "<div style=\"border:solid #81d8e6 2px; padding: 10px\">\n",
    "Мы уменьшаем эти стомерные вектора до двумерных\n",
    "</div>"
   ]
  },
  {
   "cell_type": "code",
   "execution_count": 132,
   "id": "307e2252",
   "metadata": {},
   "outputs": [
    {
     "data": {
      "text/plain": [
       "<matplotlib.collections.PathCollection at 0x1d9680f5340>"
      ]
     },
     "execution_count": 132,
     "metadata": {},
     "output_type": "execute_result"
    },
    {
     "data": {
      "image/png": "[encoded data removed]",
      "text/plain": [
       "<Figure size 1000x900 with 1 Axes>"
      ]
     },
     "metadata": {},
     "output_type": "display_data"
    }
   ],
   "source": [
    "import umap.umap_ as umap\n",
    "\n",
    "cluster_embedding = umap.UMAP(n_neighbors=40, min_dist=0.0,\n",
    "                              n_components=2, random_state=12345).fit_transform(X)\n",
    "\n",
    "plt.figure(figsize=(10,9))\n",
    "plt.scatter(cluster_embedding[:, 0], cluster_embedding[:, 1], s=4, cmap='Spectral')"
   ]
  },
  {
   "cell_type": "markdown",
   "id": "f597f356",
   "metadata": {},
   "source": [
    "# Работа со словарём"
   ]
  },
  {
   "cell_type": "markdown",
   "id": "f20378ea",
   "metadata": {},
   "source": [
    "<div style=\"border:solid #81d8e6 2px; padding: 10px\">\n",
    "Теперь нужно создать словарь с номером товара и его описанием.\n",
    "</div>"
   ]
  },
  {
   "cell_type": "code",
   "execution_count": 133,
   "id": "6327424d",
   "metadata": {},
   "outputs": [],
   "source": [
    "products = data_train[[\"StockCode\", \"Description\"]]\n",
    "products.drop_duplicates(inplace=True, subset='StockCode', keep=\"last\")\n",
    "products_dict = products.groupby('StockCode')['Description'].apply(list).to_dict()"
   ]
  },
  {
   "cell_type": "markdown",
   "id": "52e121b4",
   "metadata": {},
   "source": [
    "<div style=\"border:solid #81d8e6 2px; padding: 10px\">\n",
    "Проверяем работу словаря\n",
    "</div>"
   ]
  },
  {
   "cell_type": "code",
   "execution_count": 134,
   "id": "c767111b",
   "metadata": {},
   "outputs": [
    {
     "data": {
      "text/plain": [
       "['RED WOOLLY HOTTIE WHITE HEART.']"
      ]
     },
     "execution_count": 134,
     "metadata": {},
     "output_type": "execute_result"
    }
   ],
   "source": [
    "products_dict['84029E']"
   ]
  },
  {
   "cell_type": "markdown",
   "id": "69da671c",
   "metadata": {},
   "source": [
    "<div style=\"border:solid #81d8e6 2px; padding: 10px\">\n",
    "Создаём функцию, которая находит схожие покупки. Мы смотрим вектор покупки, ищем топ-5 (по умолчанию) схожих и выводим.\n",
    "</div>"
   ]
  },
  {
   "cell_type": "code",
   "execution_count": 135,
   "id": "a2659926",
   "metadata": {},
   "outputs": [],
   "source": [
    "def offer(vector, n=5, show=False):\n",
    "    simulars = model.wv.similar_by_vector(vector, topn=n+1)[1:]\n",
    "    new_simulars = []\n",
    "    for i in simulars:\n",
    "        pair = (products_dict[i[0]][0], i[1])\n",
    "        new_simulars.append(pair)\n",
    "    if show==True:\n",
    "        print('Most simular products are:')\n",
    "        for i in new_simulars:\n",
    "            print(i[0])\n",
    "    return new_simulars   "
   ]
  },
  {
   "cell_type": "code",
   "execution_count": 136,
   "id": "7660387e",
   "metadata": {},
   "outputs": [
    {
     "name": "stdout",
     "output_type": "stream",
     "text": [
      "Most simular products are:\n",
      "THREE CANVAS LUGGAGE TAGS\n",
      "CLASSICAL ROSE CANDLESTAND\n",
      "CAKE STAND LOVEBIRD 2 TIER PINK\n",
      "FELT TOADSTOOL  SMALL\n",
      "SKULLS  WATER TRANSFER TATTOOS \n"
     ]
    },
    {
     "data": {
      "text/plain": [
       "[('THREE CANVAS LUGGAGE TAGS', 0.4333089590072632),\n",
       " ('CLASSICAL ROSE CANDLESTAND', 0.42668798565864563),\n",
       " ('CAKE STAND LOVEBIRD 2 TIER PINK', 0.39954686164855957),\n",
       " ('FELT TOADSTOOL  SMALL', 0.39659053087234497),\n",
       " ('SKULLS  WATER TRANSFER TATTOOS ', 0.39386940002441406)]"
      ]
     },
     "execution_count": 136,
     "metadata": {},
     "output_type": "execute_result"
    }
   ],
   "source": [
    "offer(model.wv['84029E'], show=True)"
   ]
  },
  {
   "cell_type": "markdown",
   "id": "75394987",
   "metadata": {},
   "source": [
    "<div style=\"border:solid #81d8e6 2px; padding: 10px\">\n",
    "В том случае, если мы хотим предложить пользователю товар исходя из его покупок, то нам нужно найти средний вектор его покупок.\n",
    "</div>"
   ]
  },
  {
   "cell_type": "code",
   "execution_count": 137,
   "id": "f6ce90f6",
   "metadata": {},
   "outputs": [],
   "source": [
    "def mean_purchase(products):\n",
    "    product_vec = []\n",
    "    for i in products:\n",
    "        try:\n",
    "            product_vec.append(model.wv[i])\n",
    "        except KeyError:\n",
    "            continue\n",
    "        \n",
    "    return np.mean(product_vec, axis=0)"
   ]
  },
  {
   "cell_type": "code",
   "execution_count": 138,
   "id": "526e1d8b",
   "metadata": {},
   "outputs": [
    {
     "data": {
      "text/plain": [
       "10"
      ]
     },
     "execution_count": 138,
     "metadata": {},
     "output_type": "execute_result"
    }
   ],
   "source": [
    "len(purchases_val[0])"
   ]
  },
  {
   "cell_type": "code",
   "execution_count": 139,
   "id": "d0da1c6e",
   "metadata": {},
   "outputs": [
    {
     "data": {
      "text/plain": [
       "(100,)"
      ]
     },
     "execution_count": 139,
     "metadata": {},
     "output_type": "execute_result"
    }
   ],
   "source": [
    "mean_purchase(purchases_val[0]).shape"
   ]
  },
  {
   "cell_type": "code",
   "execution_count": 140,
   "id": "df332a2a",
   "metadata": {},
   "outputs": [
    {
     "data": {
      "text/plain": [
       "[('ALARM CLOCK BAKELIKE IVORY', 0.5523882508277893),\n",
       " ('STORAGE TIN VINTAGE LEAF', 0.5363788604736328),\n",
       " ('SET 6 PAPER TABLE LANTERN HEARTS ', 0.5126292109489441),\n",
       " ('SET OF 10 LED DOLLY LIGHTS', 0.5046722292900085),\n",
       " ('RIBBON REEL POLKADOTS ', 0.4970097243785858)]"
      ]
     },
     "execution_count": 140,
     "metadata": {},
     "output_type": "execute_result"
    }
   ],
   "source": [
    "offer(mean_purchase(purchases_val[0]))"
   ]
  },
  {
   "cell_type": "code",
   "execution_count": 141,
   "id": "a5c28de5",
   "metadata": {},
   "outputs": [
    {
     "data": {
      "text/plain": [
       "[('ALARM CLOCK BAKELIKE IVORY', 0.5523882508277893),\n",
       " ('STORAGE TIN VINTAGE LEAF', 0.5363788604736328),\n",
       " ('SET 6 PAPER TABLE LANTERN HEARTS ', 0.5126292109489441),\n",
       " ('SET OF 10 LED DOLLY LIGHTS', 0.5046722292900085),\n",
       " ('RIBBON REEL POLKADOTS ', 0.4970097243785858)]"
      ]
     },
     "execution_count": 141,
     "metadata": {},
     "output_type": "execute_result"
    }
   ],
   "source": [
    "offer(mean_purchase(purchases_val[0][-10:]))"
   ]
  },
  {
   "cell_type": "markdown",
   "id": "06ef261f",
   "metadata": {},
   "source": [
    "# Вывод"
   ]
  },
  {
   "cell_type": "markdown",
   "id": "043080e1",
   "metadata": {},
   "source": [
    "<div style=\"border:solid #81d8e6 2px; padding: 10px\">\n",
    "Мы создали модель, которая проанализировала данные магазина и научилась предсказывать возможные покупки относительно одной покупки или списка покупок пользователя. Для этого мы использовали функции: mean_purchase и offer. \n",
    "    \n",
    "Цель достигнута.\n",
    "</div>"
   ]
  }
 ],
 "metadata": {
  "kernelspec": {
   "display_name": "Python 3 (ipykernel)",
   "language": "python",
   "name": "python3"
  },
  "language_info": {
   "codemirror_mode": {
    "name": "ipython",
    "version": 3
   },
   "file_extension": ".py",
   "mimetype": "text/x-python",
   "name": "python",
   "nbconvert_exporter": "python",
   "pygments_lexer": "ipython3",
   "version": "3.9.13"
  },
  "toc": {
   "base_numbering": 1,
   "nav_menu": {},
   "number_sections": true,
   "sideBar": true,
   "skip_h1_title": false,
   "title_cell": "Table of Contents",
   "title_sidebar": "Contents",
   "toc_cell": false,
   "toc_position": {
    "height": "calc(100% - 180px)",
    "left": "10px",
    "top": "150px",
    "width": "307.2px"
   },
   "toc_section_display": true,
   "toc_window_display": true
  }
 },
 "nbformat": 4,
 "nbformat_minor": 5
}
